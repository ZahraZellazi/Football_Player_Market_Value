{
 "cells": [
  {
   "cell_type": "markdown",
   "id": "1a1be555",
   "metadata": {},
   "source": [
    "## Football Player Market Value"
   ]
  },
  {
   "cell_type": "markdown",
   "id": "20403c83",
   "metadata": {},
   "source": [
    "## Problem \n",
    "## understand which variables increase the player's market value\n",
    "## make predictions on the market value \n",
    "## identify over/under preforming players based on their market value"
   ]
  },
  {
   "cell_type": "code",
   "execution_count": 14,
   "id": "0f21f254",
   "metadata": {},
   "outputs": [],
   "source": [
    "import pandas as pd\n",
    "import numpy as np \n",
    "import seaborn as sns\n",
    "from matplotlib import pyplot as plt \n",
    "from sklearn.tree import DecisionTreeClassifier \n",
    "from sklearn.model_selection import train_test_split\n",
    "import pickle\n",
    "import plotly.express as px\n",
    "import streamlit as st\n"
   ]
  },
  {
   "cell_type": "code",
   "execution_count": null,
   "id": "d3f620d8",
   "metadata": {},
   "outputs": [
    {
     "data": {
      "application/vnd.microsoft.datawrangler.viewer.v0+json": {
       "columns": [
        {
         "name": "index",
         "rawType": "int64",
         "type": "integer"
        },
        {
         "name": "Rk;Player;Nation;Pos;Squad;Comp;Age;Born;MP;Starts;Min;90s;Goals;Shots;SoT;SoT%;G/Sh;G/SoT;ShoDist;ShoFK;ShoPK;PKatt;PasTotCmp;PasTotAtt;PasTotCmp%;PasTotDist;PasTotPrgDist;PasShoCmp;PasShoAtt;PasShoCmp%;PasMedCmp;PasMedAtt;PasMedCmp%;PasLonCmp;PasLonAtt;PasLonCmp%;Assists;PasAss;Pas3rd;PPA;CrsPA;PasProg;PasAtt;PasLive;PasDead;PasFK;TB;Sw;PasCrs;TI;CK;CkIn;CkOut;CkStr;PasCmp;PasOff;PasBlocks;SCA;ScaPassLive;ScaPassDead;ScaDrib;ScaSh;ScaFld;ScaDef;GCA;GcaPassLive;GcaPassDead;GcaDrib;GcaSh;GcaFld;GcaDef;Tkl;TklWon;TklDef3rd;TklMid3rd;TklAtt3rd;TklDri;TklDriAtt;TklDri%;TklDriPast;Blocks;BlkSh;BlkPass;Int;Tkl+Int;Clr;Err;Touches;TouDefPen;TouDef3rd;TouMid3rd;TouAtt3rd;TouAttPen;TouLive;ToAtt;ToSuc;ToSuc%;ToTkl;ToTkl%;Carries;CarTotDist;CarPrgDist;CarProg;Car3rd;CPA;CarMis;CarDis;Rec;RecProg;CrdY;CrdR;2CrdY;Fls;Fld;Off;Crs;TklW;PKwon;PKcon;OG;Recov;AerWon;AerLost;AerWon%",
         "rawType": "object",
         "type": "string"
        }
       ],
       "conversionMethod": "pd.DataFrame",
       "ref": "958bfbac-1f66-4d7b-bc81-94ed7b993727",
       "rows": [
        [
         "0",
         "1;Brenden Aaronson;USA;MFFW;Leeds United;Premier League;22;2000;20;19;1596;17.7;1;1.53;0.28;18.5;0.04;0.2;19;0.11;0;0;23.2;31;74.9;293;85.7;13.3;16.2;81.9;5.93;7.74;76.6;0.9;2.37;38.1;0.11;1.75;1.75;0.45;0.11;3.22;31;28.1;2.88;0.96;0.17;0;2.54;0.23;1.47;0.68;0.62;0.06;23.2;0;0.85;3.62;2.37;0.56;0.23;0.11;0.28;0.06;0.28;0.17;0;0;0.06;0;0.06;1.64;0.51;0.45;0.9;0.28;0.51;1.47;34.6;0.96;1.69;0.11;1.58;0.06;1.69;0.28;0.06;44;0.4;4.35;19;21.5;2.49;44;3.73;1.19;31.8;1.75;47;26.7;136.1;56.6;1.53;1.07;0.4;2.6;3.11;30.2;5.65;0.11;0;0;0.62;2.26;0.17;2.54;0.51;0;0;0;4.86;0.34;1.19;22.2"
        ],
        [
         "1",
         "2;Yunis Abdelhamid;MAR;DF;Reims;Ligue 1;35;1987;22;22;1980;22;0;0.86;0.05;5.3;0;0;13.5;0;0;0;38.5;47.2;81.5;751.5;318.5;10.9;12.9;84.5;23.2;25.7;90.1;3.77;7;53.9;0.05;0.27;2.91;0.09;0;4.5;47.2;43.3;3.73;3.32;0;0.55;0.18;0.09;0;0;0;0;38.5;0.23;0.59;1.14;0.86;0;0;0.18;0;0.09;0.18;0.14;0;0;0.05;0;0;2.5;1.59;1.45;1;0.05;1.32;1.68;78.4;0.36;2.23;0.77;1.45;2;4.5;2.91;0.05;59.2;6.23;27.5;29.5;2.73;1.09;59.2;0.68;0.32;46.7;0.36;53.3;40;234.2;125;0.55;0.23;0.09;0.73;0.68;34.5;0.23;0.09;0;0;1.32;0.5;0.05;0.18;1.59;0;0;0;6.64;2.18;1.23;64"
        ],
        [
         "2",
         "3;Himad Abdelli;FRA;MFFW;Angers;Ligue 1;23;1999;14;8;770;8.6;0;1.05;0.35;33.3;0;0;19.2;0;0;0;40;49.5;80.8;676;188.1;18.5;22;84.1;15.5;18.7;82.6;4.42;5.93;74.5;0;1.51;3.95;1.74;0.35;6.4;49.5;48.1;1.16;0.35;0.12;0.23;1.05;0.81;0;0;0;0;40;0.23;1.16;2.67;2.44;0;0;0.12;0;0.12;0;0;0;0;0;0;0;2.91;1.4;1.28;1.4;0.23;1.63;2.67;60.9;1.05;1.51;0.12;1.4;0.93;3.84;0.93;0;62.6;0.93;11.4;36;17.4;1.16;62.6;3.84;2.09;54.5;1.51;39.4;48.5;298.5;151;2.56;2.56;0.47;2.09;1.05;43.4;5.93;0.12;0;0;1.74;1.28;0;1.05;1.4;0;0;0;8.14;0.93;1.05;47.1"
        ],
        [
         "3",
         "4;Salis Abdul Samed;GHA;MF;Lens;Ligue 1;22;2000;20;20;1799;20;1;0.6;0.15;25;0.08;0.33;20.3;0;0;0;59.5;64.9;91.6;946.3;226.9;29.6;31.8;93.2;24.7;26.2;94.3;3.35;4.3;77.9;0;0.5;6;0.55;0.1;5.6;64.9;63.1;1.4;1.3;0.05;0.2;0.35;0.1;0;0;0;0;59.5;0.35;0.4;1.6;1.35;0;0.1;0.1;0;0.05;0;0;0;0;0;0;0;1.5;0.8;0.55;0.85;0.1;0.85;1.3;65.4;0.45;1.3;0.35;0.95;1.1;2.6;0.8;0;73.3;2.1;12;49.6;12.2;0.7;73.3;1.25;0.7;56;0.4;32;61;316.9;117.5;1.25;1.95;0.15;1.35;1.3;56.5;1.7;0.15;0;0;2.45;1.35;0;0.35;0.8;0;0;0.05;6.6;0.5;0.5;50"
        ],
        [
         "4",
         "5;Laurent Abergel;FRA;MF;Lorient;Ligue 1;30;1993;15;15;1165;12.9;0;0.31;0;0;0;0;23.9;0;0;0;37.9;43.4;87.3;613.6;224.7;17.9;19.4;92.4;15.7;17.8;88.6;2.64;3.95;66.7;0.08;0.62;3.88;0.39;0;5.04;43.4;42.6;0.78;0.78;0.39;0.16;0.23;0;0;0;0;0;37.9;0.08;0.31;1.24;1.01;0.08;0;0.08;0;0.08;0.08;0.08;0;0;0;0;0;3.8;2.02;2.64;1.16;0;1.32;3.26;40.5;1.94;1.4;0.23;1.16;1.16;4.96;1.55;0;54.7;3.26;19.2;31.4;4.88;0.23;54.7;0.93;0.54;58.3;0.31;33.3;41;174.3;72.7;0.47;0.93;0;1.32;0.78;36.4;0.47;0.16;0;0;0.93;1.01;0;0.23;2.02;0;0;0;6.51;0.31;0.39;44.4"
        ]
       ],
       "shape": {
        "columns": 1,
        "rows": 5
       }
      },
      "text/html": [
       "<div>\n",
       "<style scoped>\n",
       "    .dataframe tbody tr th:only-of-type {\n",
       "        vertical-align: middle;\n",
       "    }\n",
       "\n",
       "    .dataframe tbody tr th {\n",
       "        vertical-align: top;\n",
       "    }\n",
       "\n",
       "    .dataframe thead th {\n",
       "        text-align: right;\n",
       "    }\n",
       "</style>\n",
       "<table border=\"1\" class=\"dataframe\">\n",
       "  <thead>\n",
       "    <tr style=\"text-align: right;\">\n",
       "      <th></th>\n",
       "      <th>Rk;Player;Nation;Pos;Squad;Comp;Age;Born;MP;Starts;Min;90s;Goals;Shots;SoT;SoT%;G/Sh;G/SoT;ShoDist;ShoFK;ShoPK;PKatt;PasTotCmp;PasTotAtt;PasTotCmp%;PasTotDist;PasTotPrgDist;PasShoCmp;PasShoAtt;PasShoCmp%;PasMedCmp;PasMedAtt;PasMedCmp%;PasLonCmp;PasLonAtt;PasLonCmp%;Assists;PasAss;Pas3rd;PPA;CrsPA;PasProg;PasAtt;PasLive;PasDead;PasFK;TB;Sw;PasCrs;TI;CK;CkIn;CkOut;CkStr;PasCmp;PasOff;PasBlocks;SCA;ScaPassLive;ScaPassDead;ScaDrib;ScaSh;ScaFld;ScaDef;GCA;GcaPassLive;GcaPassDead;GcaDrib;GcaSh;GcaFld;GcaDef;Tkl;TklWon;TklDef3rd;TklMid3rd;TklAtt3rd;TklDri;TklDriAtt;TklDri%;TklDriPast;Blocks;BlkSh;BlkPass;Int;Tkl+Int;Clr;Err;Touches;TouDefPen;TouDef3rd;TouMid3rd;TouAtt3rd;TouAttPen;TouLive;ToAtt;ToSuc;ToSuc%;ToTkl;ToTkl%;Carries;CarTotDist;CarPrgDist;CarProg;Car3rd;CPA;CarMis;CarDis;Rec;RecProg;CrdY;CrdR;2CrdY;Fls;Fld;Off;Crs;TklW;PKwon;PKcon;OG;Recov;AerWon;AerLost;AerWon%</th>\n",
       "    </tr>\n",
       "  </thead>\n",
       "  <tbody>\n",
       "    <tr>\n",
       "      <th>0</th>\n",
       "      <td>1;Brenden Aaronson;USA;MFFW;Leeds United;Premier League;22;2000;20;19;1596;17.7;1;1.53;0.28;18.5;0.04;0.2;19;0.11;0;0;23.2;31;74.9;293;85.7;13.3;16.2;81.9;5.93;7.74;76.6;0.9;2.37;38.1;0.11;1.75;1.75;0.45;0.11;3.22;31;28.1;2.88;0.96;0.17;0;2.54;0.23;1.47;0.68;0.62;0.06;23.2;0;0.85;3.62;2.37;0.56;0.23;0.11;0.28;0.06;0.28;0.17;0;0;0.06;0;0.06;1.64;0.51;0.45;0.9;0.28;0.51;1.47;34.6;0.96;1.69;0.11;1.58;0.06;1.69;0.28;0.06;44;0.4;4.35;19;21.5;2.49;44;3.73;1.19;31.8;1.75;47;26.7;136.1;56.6;1.53;1.07;0.4;2.6;3.11;30.2;5.65;0.11;0;0;0.62;2.26;0.17;2.54;0.51;0;0;0;4.86;0.34;1.19;22.2</td>\n",
       "    </tr>\n",
       "    <tr>\n",
       "      <th>1</th>\n",
       "      <td>2;Yunis Abdelhamid;MAR;DF;Reims;Ligue 1;35;1987;22;22;1980;22;0;0.86;0.05;5.3;0;0;13.5;0;0;0;38.5;47.2;81.5;751.5;318.5;10.9;12.9;84.5;23.2;25.7;90.1;3.77;7;53.9;0.05;0.27;2.91;0.09;0;4.5;47.2;43.3;3.73;3.32;0;0.55;0.18;0.09;0;0;0;0;38.5;0.23;0.59;1.14;0.86;0;0;0.18;0;0.09;0.18;0.14;0;0;0.05;0;0;2.5;1.59;1.45;1;0.05;1.32;1.68;78.4;0.36;2.23;0.77;1.45;2;4.5;2.91;0.05;59.2;6.23;27.5;29.5;2.73;1.09;59.2;0.68;0.32;46.7;0.36;53.3;40;234.2;125;0.55;0.23;0.09;0.73;0.68;34.5;0.23;0.09;0;0;1.32;0.5;0.05;0.18;1.59;0;0;0;6.64;2.18;1.23;64</td>\n",
       "    </tr>\n",
       "    <tr>\n",
       "      <th>2</th>\n",
       "      <td>3;Himad Abdelli;FRA;MFFW;Angers;Ligue 1;23;1999;14;8;770;8.6;0;1.05;0.35;33.3;0;0;19.2;0;0;0;40;49.5;80.8;676;188.1;18.5;22;84.1;15.5;18.7;82.6;4.42;5.93;74.5;0;1.51;3.95;1.74;0.35;6.4;49.5;48.1;1.16;0.35;0.12;0.23;1.05;0.81;0;0;0;0;40;0.23;1.16;2.67;2.44;0;0;0.12;0;0.12;0;0;0;0;0;0;0;2.91;1.4;1.28;1.4;0.23;1.63;2.67;60.9;1.05;1.51;0.12;1.4;0.93;3.84;0.93;0;62.6;0.93;11.4;36;17.4;1.16;62.6;3.84;2.09;54.5;1.51;39.4;48.5;298.5;151;2.56;2.56;0.47;2.09;1.05;43.4;5.93;0.12;0;0;1.74;1.28;0;1.05;1.4;0;0;0;8.14;0.93;1.05;47.1</td>\n",
       "    </tr>\n",
       "    <tr>\n",
       "      <th>3</th>\n",
       "      <td>4;Salis Abdul Samed;GHA;MF;Lens;Ligue 1;22;2000;20;20;1799;20;1;0.6;0.15;25;0.08;0.33;20.3;0;0;0;59.5;64.9;91.6;946.3;226.9;29.6;31.8;93.2;24.7;26.2;94.3;3.35;4.3;77.9;0;0.5;6;0.55;0.1;5.6;64.9;63.1;1.4;1.3;0.05;0.2;0.35;0.1;0;0;0;0;59.5;0.35;0.4;1.6;1.35;0;0.1;0.1;0;0.05;0;0;0;0;0;0;0;1.5;0.8;0.55;0.85;0.1;0.85;1.3;65.4;0.45;1.3;0.35;0.95;1.1;2.6;0.8;0;73.3;2.1;12;49.6;12.2;0.7;73.3;1.25;0.7;56;0.4;32;61;316.9;117.5;1.25;1.95;0.15;1.35;1.3;56.5;1.7;0.15;0;0;2.45;1.35;0;0.35;0.8;0;0;0.05;6.6;0.5;0.5;50</td>\n",
       "    </tr>\n",
       "    <tr>\n",
       "      <th>4</th>\n",
       "      <td>5;Laurent Abergel;FRA;MF;Lorient;Ligue 1;30;1993;15;15;1165;12.9;0;0.31;0;0;0;0;23.9;0;0;0;37.9;43.4;87.3;613.6;224.7;17.9;19.4;92.4;15.7;17.8;88.6;2.64;3.95;66.7;0.08;0.62;3.88;0.39;0;5.04;43.4;42.6;0.78;0.78;0.39;0.16;0.23;0;0;0;0;0;37.9;0.08;0.31;1.24;1.01;0.08;0;0.08;0;0.08;0.08;0.08;0;0;0;0;0;3.8;2.02;2.64;1.16;0;1.32;3.26;40.5;1.94;1.4;0.23;1.16;1.16;4.96;1.55;0;54.7;3.26;19.2;31.4;4.88;0.23;54.7;0.93;0.54;58.3;0.31;33.3;41;174.3;72.7;0.47;0.93;0;1.32;0.78;36.4;0.47;0.16;0;0;0.93;1.01;0;0.23;2.02;0;0;0;6.51;0.31;0.39;44.4</td>\n",
       "    </tr>\n",
       "  </tbody>\n",
       "</table>\n",
       "</div>"
      ],
      "text/plain": [
       "  Rk;Player;Nation;Pos;Squad;Comp;Age;Born;MP;Starts;Min;90s;Goals;Shots;SoT;SoT%;G/Sh;G/SoT;ShoDist;ShoFK;ShoPK;PKatt;PasTotCmp;PasTotAtt;PasTotCmp%;PasTotDist;PasTotPrgDist;PasShoCmp;PasShoAtt;PasShoCmp%;PasMedCmp;PasMedAtt;PasMedCmp%;PasLonCmp;PasLonAtt;PasLonCmp%;Assists;PasAss;Pas3rd;PPA;CrsPA;PasProg;PasAtt;PasLive;PasDead;PasFK;TB;Sw;PasCrs;TI;CK;CkIn;CkOut;CkStr;PasCmp;PasOff;PasBlocks;SCA;ScaPassLive;ScaPassDead;ScaDrib;ScaSh;ScaFld;ScaDef;GCA;GcaPassLive;GcaPassDead;GcaDrib;GcaSh;GcaFld;GcaDef;Tkl;TklWon;TklDef3rd;TklMid3rd;TklAtt3rd;TklDri;TklDriAtt;TklDri%;TklDriPast;Blocks;BlkSh;BlkPass;Int;Tkl+Int;Clr;Err;Touches;TouDefPen;TouDef3rd;TouMid3rd;TouAtt3rd;TouAttPen;TouLive;ToAtt;ToSuc;ToSuc%;ToTkl;ToTkl%;Carries;CarTotDist;CarPrgDist;CarProg;Car3rd;CPA;CarMis;CarDis;Rec;RecProg;CrdY;CrdR;2CrdY;Fls;Fld;Off;Crs;TklW;PKwon;PKcon;OG;Recov;AerWon;AerLost;AerWon%\n",
       "0                                                                                                                                                                                                                                                                                                           1;Brenden Aaronson;USA;MFFW;Leeds United;Premier League;22;2000;20;19;1596;17.7;1;1.53;0.28;18.5;0.04;0.2;19;0.11;0;0;23.2;31;74.9;293;85.7;13.3;16.2;81.9;5.93;7.74;76.6;0.9;2.37;38.1;0.11;1.75;1.75;0.45;0.11;3.22;31;28.1;2.88;0.96;0.17;0;2.54;0.23;1.47;0.68;0.62;0.06;23.2;0;0.85;3.62;2.37;0.56;0.23;0.11;0.28;0.06;0.28;0.17;0;0;0.06;0;0.06;1.64;0.51;0.45;0.9;0.28;0.51;1.47;34.6;0.96;1.69;0.11;1.58;0.06;1.69;0.28;0.06;44;0.4;4.35;19;21.5;2.49;44;3.73;1.19;31.8;1.75;47;26.7;136.1;56.6;1.53;1.07;0.4;2.6;3.11;30.2;5.65;0.11;0;0;0.62;2.26;0.17;2.54;0.51;0;0;0;4.86;0.34;1.19;22.2\n",
       "1                                                                                                                                                                                                                                                                                                                                                          2;Yunis Abdelhamid;MAR;DF;Reims;Ligue 1;35;1987;22;22;1980;22;0;0.86;0.05;5.3;0;0;13.5;0;0;0;38.5;47.2;81.5;751.5;318.5;10.9;12.9;84.5;23.2;25.7;90.1;3.77;7;53.9;0.05;0.27;2.91;0.09;0;4.5;47.2;43.3;3.73;3.32;0;0.55;0.18;0.09;0;0;0;0;38.5;0.23;0.59;1.14;0.86;0;0;0.18;0;0.09;0.18;0.14;0;0;0.05;0;0;2.5;1.59;1.45;1;0.05;1.32;1.68;78.4;0.36;2.23;0.77;1.45;2;4.5;2.91;0.05;59.2;6.23;27.5;29.5;2.73;1.09;59.2;0.68;0.32;46.7;0.36;53.3;40;234.2;125;0.55;0.23;0.09;0.73;0.68;34.5;0.23;0.09;0;0;1.32;0.5;0.05;0.18;1.59;0;0;0;6.64;2.18;1.23;64\n",
       "2                                                                                                                                                                                                                                                                                                                                                                    3;Himad Abdelli;FRA;MFFW;Angers;Ligue 1;23;1999;14;8;770;8.6;0;1.05;0.35;33.3;0;0;19.2;0;0;0;40;49.5;80.8;676;188.1;18.5;22;84.1;15.5;18.7;82.6;4.42;5.93;74.5;0;1.51;3.95;1.74;0.35;6.4;49.5;48.1;1.16;0.35;0.12;0.23;1.05;0.81;0;0;0;0;40;0.23;1.16;2.67;2.44;0;0;0.12;0;0.12;0;0;0;0;0;0;0;2.91;1.4;1.28;1.4;0.23;1.63;2.67;60.9;1.05;1.51;0.12;1.4;0.93;3.84;0.93;0;62.6;0.93;11.4;36;17.4;1.16;62.6;3.84;2.09;54.5;1.51;39.4;48.5;298.5;151;2.56;2.56;0.47;2.09;1.05;43.4;5.93;0.12;0;0;1.74;1.28;0;1.05;1.4;0;0;0;8.14;0.93;1.05;47.1\n",
       "3                                                                                                                                                                                                                                                                                                                                                                                    4;Salis Abdul Samed;GHA;MF;Lens;Ligue 1;22;2000;20;20;1799;20;1;0.6;0.15;25;0.08;0.33;20.3;0;0;0;59.5;64.9;91.6;946.3;226.9;29.6;31.8;93.2;24.7;26.2;94.3;3.35;4.3;77.9;0;0.5;6;0.55;0.1;5.6;64.9;63.1;1.4;1.3;0.05;0.2;0.35;0.1;0;0;0;0;59.5;0.35;0.4;1.6;1.35;0;0.1;0.1;0;0.05;0;0;0;0;0;0;0;1.5;0.8;0.55;0.85;0.1;0.85;1.3;65.4;0.45;1.3;0.35;0.95;1.1;2.6;0.8;0;73.3;2.1;12;49.6;12.2;0.7;73.3;1.25;0.7;56;0.4;32;61;316.9;117.5;1.25;1.95;0.15;1.35;1.3;56.5;1.7;0.15;0;0;2.45;1.35;0;0.35;0.8;0;0;0.05;6.6;0.5;0.5;50\n",
       "4                                                                                                                                                                                                                                                                                                                                                          5;Laurent Abergel;FRA;MF;Lorient;Ligue 1;30;1993;15;15;1165;12.9;0;0.31;0;0;0;0;23.9;0;0;0;37.9;43.4;87.3;613.6;224.7;17.9;19.4;92.4;15.7;17.8;88.6;2.64;3.95;66.7;0.08;0.62;3.88;0.39;0;5.04;43.4;42.6;0.78;0.78;0.39;0.16;0.23;0;0;0;0;0;37.9;0.08;0.31;1.24;1.01;0.08;0;0.08;0;0.08;0.08;0.08;0;0;0;0;0;3.8;2.02;2.64;1.16;0;1.32;3.26;40.5;1.94;1.4;0.23;1.16;1.16;4.96;1.55;0;54.7;3.26;19.2;31.4;4.88;0.23;54.7;0.93;0.54;58.3;0.31;33.3;41;174.3;72.7;0.47;0.93;0;1.32;0.78;36.4;0.47;0.16;0;0;0.93;1.01;0;0.23;2.02;0;0;0;6.51;0.31;0.39;44.4"
      ]
     },
     "execution_count": 25,
     "metadata": {},
     "output_type": "execute_result"
    }
   ],
   "source": [
    "import pandas as pd\n",
    "\n",
    "# Load the dataset\n",
    "player_raw = pd.read_csv(\"Player_Stats.csv\", encoding=\"latin1\", delimiter=\";\")\n",
    "\n",
    "# Set options to display more columns and rows without truncation\n",
    "pd.set_option('display.max_columns', None)  # Display all columns\n",
    "pd.set_option('display.max_rows', 20)  # Show up to 20 rows\n",
    "pd.set_option('display.width', 1000)  # Adjust the width of the display\n",
    "pd.set_option('display.max_colwidth', None)  # Show full content in each cell\n",
    "\n",
    "# Now display the first few rows\n",
    "player_raw.head()"
   ]
  }
 ],
 "metadata": {
  "kernelspec": {
   "display_name": ".venv",
   "language": "python",
   "name": "python3"
  },
  "language_info": {
   "codemirror_mode": {
    "name": "ipython",
    "version": 3
   },
   "file_extension": ".py",
   "mimetype": "text/x-python",
   "name": "python",
   "nbconvert_exporter": "python",
   "pygments_lexer": "ipython3",
   "version": "3.13.1"
  }
 },
 "nbformat": 4,
 "nbformat_minor": 5
}
